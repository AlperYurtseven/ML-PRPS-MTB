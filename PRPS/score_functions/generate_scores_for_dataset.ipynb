{
 "cells": [
  {
   "cell_type": "markdown",
   "metadata": {},
   "source": [
    "# Usecase"
   ]
  },
  {
   "cell_type": "markdown",
   "metadata": {},
   "source": [
    "<p>This code was used to generate evolutionary scores for all features in the dataset.</p>\n",
    "\n",
    "<ol>\n",
    "  <li>combined_binary_mutations_non_snp_corrected_0.2.tsv - the dataset with all features</li>\n",
    "  <li>run_all_LSTINFO-LSTINFO-NA-filtered-0.0_0.2.lst - panacota generated LSTINFO file</li>\n",
    "  <li>MYTU_4648.nucl.grp.aln.iqtree_tree.treefile - panacota IQTREE generated tree file</li>\n",
    "\n",
    "</ol>"
   ]
  },
  {
   "cell_type": "code",
   "execution_count": null,
   "metadata": {},
   "outputs": [],
   "source": [
    "from utils import *\n",
    "from score import *\n",
    "\n",
    "\n",
    "with open('../../mtb/MYTU_4648.nucl.grp.aln.iqtree_tree.treefile', \"r\") as f:\n",
    "    newick=f.readlines()[0]\n",
    "\n",
    "t, node_list, names_list = load_tree(newick)\n",
    "#get_distance_matrix(t, node_list, names_list)\n",
    "\n",
    "dist_matrix = pd.read_csv(\"dist_matrix_all_incl_internal.csv\", index_col=\"Unnamed: 0\")\n",
    "dist_matrix = dist_matrix.fillna(0)\n",
    "\n",
    "\n",
    "\n",
    "featurefile=\"../../mtb/new_data_feb4/combined_binary_mutations_non_snp_corrected_0.2.tsv\"\n",
    "#bact_dataloc=\"/nfs/scistore08/kondrgrp/sbuyanov/muts_in_bact\"\n",
    "bact_dataloc=\"../\"\n",
    "mtb_datafile=\"run_all_LSTINFO-LSTINFO-NA-filtered-0.0_0.2.lst\" # panacota LSTINFO output file\n",
    "mtb_id_match=load_renaming_and_features(bact_dataloc, mtb_datafile, featurefile,origformat=True)\n",
    "\n",
    "\n",
    "mtb_id_match=mtb_id_match.replace(\"?\",2)\n",
    "mtb_id_match = mtb_id_match.fillna(0)\n",
    "#convert to numbers, since \"?\" made it be imported as str\n",
    "mtb_id_match.iloc[:,3:]=mtb_id_match.iloc[:,3:].apply(pd.to_numeric)\n",
    "\n",
    "feature_score_dict={}\n",
    "empty_f=[]\n",
    "\n",
    "\n",
    "\n",
    "feature_score_dict={}\n",
    "\n",
    "#for it in range(1,2):\n",
    "#    l=1000*it\n",
    "for feature in tqdm(mtb_id_match.columns):#[3+l-1000:l]):\n",
    "    samples=mtb_id_match.loc[mtb_id_match[feature]==1,\"panacota_renamed\"] #select those who have the feature           \n",
    "\n",
    "    if len(samples)==0:\n",
    "        empty_f.append(feature)\n",
    "    else:\n",
    "        feature_score_dict[feature]=find_nodes_with_descendants_from_matrix(samples, t, dist_matrix)\n",
    "        \n",
    "feature_score=pd.DataFrame.from_dict(feature_score_dict,orient=\"index\")\n",
    "\n",
    "feature_score=feature_score.sum(axis=1)\n",
    "feature_score.columns = [\"score\"]\n",
    "feature_score.to_csv(f\"new_score_from_matrix_all.csv\")\n"
   ]
  },
  {
   "cell_type": "code",
   "execution_count": null,
   "metadata": {},
   "outputs": [],
   "source": []
  }
 ],
 "metadata": {
  "language_info": {
   "name": "python"
  },
  "orig_nbformat": 4
 },
 "nbformat": 4,
 "nbformat_minor": 2
}
